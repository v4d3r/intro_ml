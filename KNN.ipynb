{
  "nbformat": 4,
  "nbformat_minor": 0,
  "metadata": {
    "colab": {
      "name": "KNN.ipynb",
      "version": "0.3.2",
      "provenance": [],
      "collapsed_sections": []
    },
    "kernelspec": {
      "name": "python3",
      "display_name": "Python 3"
    }
  },
  "cells": [
    {
      "metadata": {
        "id": "lUhUP-ctAJZD",
        "colab_type": "code",
        "colab": {}
      },
      "cell_type": "code",
      "source": [
        "import numpy as np\n",
        "from sklearn.datasets import load_iris\n",
        "#Importamos la funcion que nos ayudara a separar nuestro dataset en entrenamiento y prueba\n",
        "from sklearn.model_selection import train_test_split\n",
        "#Importamos el modelo de knn\n",
        "from sklearn.neighbors import KNeighborsClassifier"
      ],
      "execution_count": 0,
      "outputs": []
    },
    {
      "metadata": {
        "id": "s06tFPSqAUOH",
        "colab_type": "code",
        "colab": {
          "base_uri": "https://localhost:8080/",
          "height": 34
        },
        "outputId": "cbd2fb3c-fae4-45d7-bac6-6d5ff2aa0eaa"
      },
      "cell_type": "code",
      "source": [
        "#Cargamos el dataset de iris\n",
        "iris = load_iris()\n",
        "#Imprimimos los key para acceder a los datos del dataset\n",
        "iris.keys()"
      ],
      "execution_count": 11,
      "outputs": [
        {
          "output_type": "execute_result",
          "data": {
            "text/plain": [
              "dict_keys(['data', 'target', 'target_names', 'DESCR', 'feature_names'])"
            ]
          },
          "metadata": {
            "tags": []
          },
          "execution_count": 11
        }
      ]
    },
    {
      "metadata": {
        "id": "FLV7_I6jB1KW",
        "colab_type": "code",
        "colab": {
          "base_uri": "https://localhost:8080/",
          "height": 34
        },
        "outputId": "fffd962e-5463-4c22-a241-3b9430c705aa"
      },
      "cell_type": "code",
      "source": [
        "#Separamos el dataset en entrenamiento y prueba\n",
        "X_train, X_test, Y_train, Y_test = train_test_split(iris['data'], iris['target'])"
      ],
      "execution_count": 15,
      "outputs": [
        {
          "output_type": "execute_result",
          "data": {
            "text/plain": [
              "(112,)"
            ]
          },
          "metadata": {
            "tags": []
          },
          "execution_count": 15
        }
      ]
    },
    {
      "metadata": {
        "id": "Ygp0JbuaEcfn",
        "colab_type": "code",
        "colab": {
          "base_uri": "https://localhost:8080/",
          "height": 34
        },
        "outputId": "ae96aea3-ba8b-4f4d-c1da-2a257034e20b"
      },
      "cell_type": "code",
      "source": [
        "#Definimos el modelo con una kernel de 2\n",
        "knn = KNeighborsClassifier(n_neighbors=2)\n",
        "#Entrenamos el modelo con los datos de entrenamiento\n",
        "knn.fit(X_train, Y_train)\n",
        "#Mostramos la presicion del modelo\n",
        "knn.score(X_test, Y_test)"
      ],
      "execution_count": 37,
      "outputs": [
        {
          "output_type": "execute_result",
          "data": {
            "text/plain": [
              "0.9736842105263158"
            ]
          },
          "metadata": {
            "tags": []
          },
          "execution_count": 37
        }
      ]
    },
    {
      "metadata": {
        "id": "MLiar1WtG6Mo",
        "colab_type": "code",
        "colab": {
          "base_uri": "https://localhost:8080/",
          "height": 67
        },
        "outputId": "f3d8c162-267f-4047-cfdf-5fba63002e11"
      },
      "cell_type": "code",
      "source": [
        "print(X_test[3])\n",
        "print(\"Los datos anteriores pertenecen a la clase: \",Y_test[3])\n",
        "\n",
        "#Hacemos una prueba con un dato al azar del dataset\n",
        "p = knn.predict([X_test[3]])\n",
        "print(\"El modelo predijo: \", p)\n",
        "\n"
      ],
      "execution_count": 38,
      "outputs": [
        {
          "output_type": "stream",
          "text": [
            "[5.5 2.5 4.  1.3]\n",
            "Los datos anteriores pertenecen a la clase:  1\n",
            "El modelo predijo:  [1]\n"
          ],
          "name": "stdout"
        }
      ]
    },
    {
      "metadata": {
        "id": "yUhPKiZ6IGNt",
        "colab_type": "code",
        "colab": {}
      },
      "cell_type": "code",
      "source": [
        ""
      ],
      "execution_count": 0,
      "outputs": []
    }
  ]
}