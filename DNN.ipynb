{
  "nbformat": 4,
  "nbformat_minor": 0,
  "metadata": {
    "colab": {
      "name": "DNN.ipynb",
      "version": "0.3.2",
      "provenance": [],
      "collapsed_sections": []
    },
    "kernelspec": {
      "name": "python3",
      "display_name": "Python 3"
    }
  },
  "cells": [
    {
      "metadata": {
        "id": "1v2PmJNYxxTA",
        "colab_type": "code",
        "colab": {}
      },
      "cell_type": "code",
      "source": [
        "#Instalamos la libreria tflearn\n",
        "!pip install tflearn"
      ],
      "execution_count": 0,
      "outputs": []
    },
    {
      "metadata": {
        "id": "1JbvrCSFyyIo",
        "colab_type": "code",
        "colab": {}
      },
      "cell_type": "code",
      "source": [
        "#Importamos todo lo que necesitamos de tflearn\n",
        "import tflearn\n",
        "from tflearn.layers.core import input_data, fully_connected\n",
        "from tflearn.layers.estimator import regression\n",
        "from tflearn.data_utils import to_categorical\n",
        "\n",
        "#Importamos el dataset y la funcion para separar el dataset en entrenamiento y prueba\n",
        "from sklearn.datasets import load_breast_cancer\n",
        "from sklearn.model_selection import train_test_split"
      ],
      "execution_count": 0,
      "outputs": []
    },
    {
      "metadata": {
        "id": "p07Lyvt7zRch",
        "colab_type": "code",
        "colab": {}
      },
      "cell_type": "code",
      "source": [
        "#Cargamos el dataset\n",
        "breast_cancer = load_breast_cancer()\n",
        "#Lo separamos en entrenamiento y prueba\n",
        "X_train, X_test, Y_train, Y_test = train_test_split(breast_cancer.data, breast_cancer.target)"
      ],
      "execution_count": 0,
      "outputs": []
    },
    {
      "metadata": {
        "id": "7WdqiJz26B0n",
        "colab_type": "code",
        "colab": {}
      },
      "cell_type": "code",
      "source": [
        "#Convertimos las variables Y_train y Y_test en cateforicas de dos clases\n",
        "Y_train = to_categorical(Y_train, nb_classes=2)\n",
        "Y_test = to_categorical(Y_test, nb_classes=2)"
      ],
      "execution_count": 0,
      "outputs": []
    },
    {
      "metadata": {
        "id": "rLmIuPR9_I8f",
        "colab_type": "code",
        "colab": {}
      },
      "cell_type": "code",
      "source": [
        "#Definimos la estructura de la red neuronal\n",
        "net = input_data(shape=[None, 30])\n",
        "net = fully_connected(net, 32, activation='ReLU', regularizer='L2')\n",
        "net = fully_connected(net, 32, activation='ReLU', regularizer='L2')\n",
        "net = fully_connected(net, 2, activation='softmax')\n",
        "net = regression(net, optimizer='sgd', learning_rate=0.001, loss='categorical_crossentropy')\n",
        "\n",
        "model = tflearn.DNN(net)"
      ],
      "execution_count": 0,
      "outputs": []
    },
    {
      "metadata": {
        "id": "o0TMjdf9An0v",
        "colab_type": "code",
        "colab": {}
      },
      "cell_type": "code",
      "source": [
        "#Entrenamos el modelo y lo validamos\n",
        "model.fit(X_train,Y_train, validation_set=(X_test, Y_test), show_metric=True, n_epoch=100)"
      ],
      "execution_count": 0,
      "outputs": []
    }
  ]
}