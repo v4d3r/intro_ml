{
  "nbformat": 4,
  "nbformat_minor": 0,
  "metadata": {
    "colab": {
      "name": "Linear_Regression",
      "version": "0.3.2",
      "provenance": []
    },
    "kernelspec": {
      "name": "python3",
      "display_name": "Python 3"
    }
  },
  "cells": [
    {
      "metadata": {
        "id": "NSL-ADqQe_Mw",
        "colab_type": "code",
        "colab": {}
      },
      "cell_type": "code",
      "source": [
        "import numpy as np\n",
        "import matplotlib.pyplot as plt\n",
        "\n",
        "from sklearn.datasets import load_boston"
      ],
      "execution_count": 0,
      "outputs": []
    },
    {
      "metadata": {
        "id": "BNfN1DSxfHm4",
        "colab_type": "code",
        "colab": {}
      },
      "cell_type": "code",
      "source": [
        "#Cargamos el dataset de Boston\n",
        "boston = load_boston()\n",
        "#Imprimimos la descripcion del dataset\n",
        "print (boston.DESCR)"
      ],
      "execution_count": 0,
      "outputs": []
    },
    {
      "metadata": {
        "id": "vciyLoqAfvCv",
        "colab_type": "code",
        "colab": {}
      },
      "cell_type": "code",
      "source": [
        "#Le asignamos el numero de cuartos a la variable X\n",
        "X = boston.data[:, 5]\n",
        "#Le asignamos el precio de la casa a la variable Y\n",
        "Y = boston.target\n",
        "\n",
        "#Graficamos los valores de X, Y\n",
        "plt.scatter(X,Y, alpha=0.5)\n",
        "\n",
        "#Agregamos una columna de 1 para el termino independiente\n",
        "X = np.array([np.ones(506), X]).T\n",
        "\n",
        "#Formula para minimizar el error cuadratico medio\n",
        "W = np.linalg.inv(X.T @ X) @ X.T @ Y\n",
        "\n",
        "#Graficamos la recta que mejor se acomoda a los datos\n",
        "plt.plot([4,9], [W[0]+W[1]*4, W[0]+W[1]*9], c=\"red\")\n",
        "plt.show()"
      ],
      "execution_count": 0,
      "outputs": []
    }
  ]
}