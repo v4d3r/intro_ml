{
  "nbformat": 4,
  "nbformat_minor": 0,
  "metadata": {
    "colab": {
      "name": "Desicion_Tree.ipynb",
      "version": "0.3.2",
      "provenance": [],
      "collapsed_sections": []
    },
    "kernelspec": {
      "name": "python3",
      "display_name": "Python 3"
    }
  },
  "cells": [
    {
      "metadata": {
        "id": "uVs2ZR1LXzB_",
        "colab_type": "code",
        "colab": {}
      },
      "cell_type": "code",
      "source": [
        "#Instalamos la libreria para python y paqueteria de graphviz\n",
        "!pip install graphviz\n",
        "!apt-get install graphviz"
      ],
      "execution_count": 0,
      "outputs": []
    },
    {
      "metadata": {
        "id": "PNU99MltR5PZ",
        "colab_type": "code",
        "colab": {}
      },
      "cell_type": "code",
      "source": [
        "from sklearn.tree import DecisionTreeClassifier, export_graphviz\n",
        "from sklearn.datasets import load_iris\n",
        "from sklearn.model_selection import train_test_split\n",
        "import graphviz\n",
        "import matplotlib.pyplot as plt\n",
        "import numpy as np"
      ],
      "execution_count": 0,
      "outputs": []
    },
    {
      "metadata": {
        "id": "m2O4tzo5SVSY",
        "colab_type": "code",
        "colab": {}
      },
      "cell_type": "code",
      "source": [
        "#Cargamos el dataset de iris\n",
        "iris=load_iris()\n",
        "#Separamos el dataset en entrenamiento y prueba\n",
        "X_train, X_test, Y_train, Y_test = train_test_split(iris.data, iris.target)"
      ],
      "execution_count": 0,
      "outputs": []
    },
    {
      "metadata": {
        "id": "yZ0ajHj2YDfH",
        "colab_type": "code",
        "outputId": "aba46591-4f47-493f-c510-c545afe3195b",
        "colab": {
          "base_uri": "https://localhost:8080/",
          "height": 34
        }
      },
      "cell_type": "code",
      "source": [
        "#Definimos el modelo de arbol de decision, con todas los parametros por defecto\n",
        "tree = DecisionTreeClassifier()\n",
        "#Entrenamos el modelo\n",
        "tree.fit(X_train, Y_train)\n",
        "#Monstramos la presicion del modelo con el set de datos de prueba\n",
        "tree.score(X_test, Y_test)"
      ],
      "execution_count": 3,
      "outputs": [
        {
          "output_type": "execute_result",
          "data": {
            "text/plain": [
              "0.9736842105263158"
            ]
          },
          "metadata": {
            "tags": []
          },
          "execution_count": 3
        }
      ]
    },
    {
      "metadata": {
        "id": "97xosheuYinn",
        "colab_type": "code",
        "outputId": "03054b16-64cb-491c-e89c-01eb84b6447f",
        "colab": {
          "base_uri": "https://localhost:8080/",
          "height": 34
        }
      },
      "cell_type": "code",
      "source": [
        "#Mostramos la presicion del modelo con el set de datos para entrenar\n",
        "tree.score(X_train, Y_train)"
      ],
      "execution_count": 4,
      "outputs": [
        {
          "output_type": "execute_result",
          "data": {
            "text/plain": [
              "1.0"
            ]
          },
          "metadata": {
            "tags": []
          },
          "execution_count": 4
        }
      ]
    },
    {
      "metadata": {
        "id": "JfwggtrsYyqv",
        "colab_type": "code",
        "colab": {}
      },
      "cell_type": "code",
      "source": [
        "#Guardamos el arbol en un archivo .dot para mostrarlo a continuacion\n",
        "export_graphviz(tree, out_file='tree.dot', class_names=iris.target_names,\n",
        "               feature_names=iris.feature_names, impurity=False, filled=True)"
      ],
      "execution_count": 0,
      "outputs": []
    },
    {
      "metadata": {
        "id": "Fr49FqSlZPXp",
        "colab_type": "code",
        "colab": {}
      },
      "cell_type": "code",
      "source": [
        "#Mostramos el arbol de desicion\n",
        "with open('tree.dot') as f:\n",
        "  dot_graph=f.read()\n",
        "graphviz.Source(dot_graph)"
      ],
      "execution_count": 0,
      "outputs": []
    },
    {
      "metadata": {
        "id": "IxtXuZOddLWw",
        "colab_type": "code",
        "colab": {}
      },
      "cell_type": "code",
      "source": [
        "#Mostramos la importancia de cada caracteristica del dataset\n",
        "carac = iris.data.shape[1]\n",
        "plt.barh(range(carac), tree.feature_importances_)\n",
        "plt.yticks(np.arange(carac), iris.feature_names)\n",
        "plt.xlabel('Importancia de las caracteristicas')\n",
        "plt.ylabel('Caracteristica')\n",
        "plt.show()"
      ],
      "execution_count": 0,
      "outputs": []
    }
  ]
}