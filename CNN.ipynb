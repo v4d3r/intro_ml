{
  "nbformat": 4,
  "nbformat_minor": 0,
  "metadata": {
    "colab": {
      "name": "CNN.ipynb",
      "version": "0.3.2",
      "provenance": [],
      "collapsed_sections": []
    },
    "kernelspec": {
      "name": "python3",
      "display_name": "Python 3"
    }
  },
  "cells": [
    {
      "metadata": {
        "id": "l4Bfikw7_I5v",
        "colab_type": "code",
        "colab": {}
      },
      "cell_type": "code",
      "source": [
        "#Instalamos la libreria tflearn\n",
        "!pip install tflearn"
      ],
      "execution_count": 0,
      "outputs": []
    },
    {
      "metadata": {
        "id": "n3N1tJ_r-WCr",
        "colab_type": "code",
        "colab": {}
      },
      "cell_type": "code",
      "source": [
        "#Importamos todo lo que necesitamos de tflearn\n",
        "import tflearn\n",
        "from tflearn.layers.core import input_data, dropout, fully_connected\n",
        "from tflearn.layers.conv import conv_2d, max_pool_2d\n",
        "from tflearn.layers.normalization import local_response_normalization\n",
        "from tflearn.layers.estimator import regression"
      ],
      "execution_count": 0,
      "outputs": []
    },
    {
      "metadata": {
        "id": "DsE493Ca-ha7",
        "colab_type": "code",
        "colab": {}
      },
      "cell_type": "code",
      "source": [
        "#Importamos el dataset de MNIST\n",
        "import tflearn.datasets.mnist as mnist\n",
        "#Cargamos el dataset en las variables de entrenamiento y prueba\n",
        "X, Y, testX, testY = mnist.load_data(one_hot=True)\n",
        "X = X.reshape([-1, 28, 28, 1])\n",
        "testX = testX.reshape([-1, 28, 28, 1])"
      ],
      "execution_count": 0,
      "outputs": []
    },
    {
      "metadata": {
        "id": "nK-A2ziE-lKi",
        "colab_type": "code",
        "colab": {}
      },
      "cell_type": "code",
      "source": [
        "#Definimos la estructura de la red neuronal\n",
        "net = input_data(shape=[None, 28, 28, 1])\n",
        "net = conv_2d(net, 32, 3, activation='relu', regularizer=\"L2\")\n",
        "net = max_pool_2d(net, 2)\n",
        "net = local_response_normalization(net)\n",
        "net = conv_2d(net, 64, 3, activation='relu', regularizer=\"L2\")\n",
        "net = max_pool_2d(net, 2)\n",
        "net = local_response_normalization(net)\n",
        "net = conv_2d(net, 128, 3, activation='relu', regularizer=\"L2\")\n",
        "net = max_pool_2d(net, 2)\n",
        "net = fully_connected(net, 625, activation='relu')\n",
        "net = dropout(net, 0.8)\n",
        "net = fully_connected(net, 10, activation='softmax')\n",
        "net = regression(net, optimizer='adam', learning_rate=0.001, loss='categorical_crossentropy')\n",
        "                 \n",
        "model = tflearn.DNN(net)"
      ],
      "execution_count": 0,
      "outputs": []
    },
    {
      "metadata": {
        "id": "m3sJWNym-4C5",
        "colab_type": "code",
        "colab": {
          "base_uri": "https://localhost:8080/",
          "height": 101
        },
        "outputId": "da20361c-9f14-4201-fa2c-c524e5861a4c"
      },
      "cell_type": "code",
      "source": [
        "#Entrenamos el modelo y lo validamos\n",
        "model.fit(X, Y, validation_set=(testX, testY),snapshot_step=1000, show_metric=True, n_epoch=1)"
      ],
      "execution_count": 4,
      "outputs": [
        {
          "output_type": "stream",
          "text": [
            "Training Step: 859  | total loss: \u001b[1m\u001b[32m0.03603\u001b[0m\u001b[0m | time: 145.464s\n",
            "| Adam | epoch: 001 | loss: 0.03603 - acc: 0.9886 -- iter: 54976/55000\n",
            "Training Step: 860  | total loss: \u001b[1m\u001b[32m0.03715\u001b[0m\u001b[0m | time: 151.551s\n",
            "| Adam | epoch: 001 | loss: 0.03715 - acc: 0.9882 | val_loss: 0.05392 - val_acc: 0.9808 -- iter: 55000/55000\n",
            "--\n"
          ],
          "name": "stdout"
        }
      ]
    }
  ]
}